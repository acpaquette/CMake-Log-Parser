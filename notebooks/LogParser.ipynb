{
 "cells": [
  {
   "cell_type": "code",
   "execution_count": 7,
   "metadata": {
    "collapsed": true
   },
   "outputs": [],
   "source": [
    "import pandas as pd\n",
    "import os\n",
    "import re\n",
    "import smtplib\n",
    "from email.mime.text import MIMEText\n",
    "from email.mime.multipart import MIMEMultipart"
   ]
  },
  {
   "cell_type": "code",
   "execution_count": 8,
   "metadata": {
    "collapsed": true,
    "scrolled": true
   },
   "outputs": [],
   "source": [
    "def parse_logs(filename):\n",
    "    with open(filename) as f:\n",
    "        content = f.readlines()        \n",
    "        \n",
    "    content = [x.strip() for x in content] \n",
    "    results = []\n",
    "    \n",
    "    for line in content:    \n",
    "        try:\n",
    "            data = {}\n",
    "            data['passed'] = bool(re.search(\"passed\", line, flags=re.IGNORECASE))\n",
    "            data['name'] = re.search(\"isis3_[A-z]+|[A-z]+_app_[A-z]+\", line, flags=re.IGNORECASE).group(0)\n",
    "            data['test_id'] = int(re.search(\"#[0-9]+\", line, flags=re.IGNORECASE).group(0)[1:])\n",
    "            data['time'] = float(re.search(\"[0-9]+\\.[0-9]+\", line, flags=re.IGNORECASE).group(0))\n",
    "            results.append(data)\n",
    "        except Exception as e:\n",
    "            pass\n",
    "    \n",
    "    return pd.DataFrame(results)"
   ]
  },
  {
   "cell_type": "code",
   "execution_count": 71,
   "metadata": {
    "collapsed": false
   },
   "outputs": [],
   "source": [
    "def parse_make(filename):\n",
    "    with open(filename) as f:\n",
    "        content = f.readlines()\n",
    "        \n",
    "    content = [x.strip() for x in content]\n",
    "    results = []\n",
    "    # Set initial data and target to none since the re.match may not find anything\n",
    "    data = {'Target':None}\n",
    "    data_list = []\n",
    "    target = None\n",
    "    \n",
    "    for line in content:\n",
    "        try:\n",
    "            # If nothing is found, the .group(0) call will cause an error and\n",
    "            # move to the exception clause\n",
    "            target = re.match(\"Scanning dependencies of target [A-z or 0-9 or _]+|[A-z or 0-9 or _]+.so\", line,\n",
    "                              flags=re.IGNORECASE).group(0)[32:]\n",
    "            # If there is a new target\n",
    "            if data['Target'] != target:\n",
    "                # And the current target is not None\n",
    "                if data['Target']:\n",
    "                    # Add the current data to the result set\n",
    "                    results.append(data)\n",
    "                # No matter what the target is clear the data_list and update the next data point with\n",
    "                # the new target, empty data_list, and set built to true\n",
    "                data_list = []\n",
    "                data = {'Target':target, 'data_list':data_list, 'built':True}\n",
    "                \n",
    "        except Exception as e:\n",
    "            # If there is a dependency we are building\n",
    "            if target:\n",
    "                # Check to see if the line has some kind of error or warning\n",
    "                error_line = re.search(\"fatal error:|error:|warning:\", line, flags=re.IGNORECASE)\n",
    "                # If there is an error it \"probably\" failed to build (Hasn't been check with all\n",
    "                # of the various errors we can get)\n",
    "                if error_line:\n",
    "                    data['built'] = False\n",
    "                data_list.append(line)\n",
    "            pass\n",
    "    results.append(data)\n",
    "    return pd.DataFrame(results)"
   ]
  }
 ],
 "metadata": {
  "anaconda-cloud": {},
  "kernelspec": {
   "display_name": "Python [default]",
   "language": "python",
   "name": "python3"
  },
  "language_info": {
   "codemirror_mode": {
    "name": "ipython",
    "version": 3
   },
   "file_extension": ".py",
   "mimetype": "text/x-python",
   "name": "python",
   "nbconvert_exporter": "python",
   "pygments_lexer": "ipython3",
   "version": "3.5.2"
  }
 },
 "nbformat": 4,
 "nbformat_minor": 2
}
